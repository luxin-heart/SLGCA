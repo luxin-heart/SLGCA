{
 "cells": [
  {
   "cell_type": "code",
   "id": "initial_id",
   "metadata": {
    "collapsed": true,
    "ExecuteTime": {
     "end_time": "2025-07-15T05:30:37.236599Z",
     "start_time": "2025-07-15T05:30:33.820037Z"
    }
   },
   "source": [
    "from SLGCA_Model import SLGCA\n",
    "import os\n",
    "import torch\n",
    "import pandas as pd\n",
    "import scanpy as sc\n",
    "from sklearn import metrics\n",
    "import numpy as np\n",
    "import warnings\n",
    "from preprecess import *\n",
    "warnings.filterwarnings(\"ignore\", category=FutureWarning)\n",
    "warnings.filterwarnings(\"ignore\", category=UserWarning)\n",
    "warnings.filterwarnings(\"ignore\", category=DeprecationWarning)\n",
    "device = torch.device(\"cuda:1\" if torch.cuda.is_available() else \"cpu\")\n",
    "os.environ['R_HOME'] = '/home/luxin1/miniconda3/envs/pytorch/lib/R'"
   ],
   "outputs": [],
   "execution_count": 1
  },
  {
   "metadata": {
    "ExecuteTime": {
     "end_time": "2025-07-15T05:30:38.832659Z",
     "start_time": "2025-07-15T05:30:37.248456Z"
    }
   },
   "cell_type": "code",
   "source": [
    "file_fold = '/home/luxin1/stGRL-main/Mouse_anterior_brain/'\n",
    "n_clusters = 52\n",
    "os.environ['R_HOME'] = '/home/luxin1/miniconda3/envs/pytorch/lib/R'\n",
    "adata = sc.read_visium(file_fold, count_file='filtered_feature_bc_matrix.h5', load_images=True)\n",
    "adata.var_names_make_unique()\n",
    "df_meta = pd.read_csv(file_fold + \"/metadata.tsv\", sep=\"\\t\")\n",
    "de_meta_layer = df_meta['ground_truth']\n",
    "adata.obs['ground_truth'] = de_meta_layer.values\n",
    "adata = adata[~pd.isnull(adata.obs['ground_truth'])]"
   ],
   "id": "94f905e316eaa3a1",
   "outputs": [],
   "execution_count": 2
  },
  {
   "metadata": {
    "ExecuteTime": {
     "end_time": "2025-07-15T05:32:39.910441Z",
     "start_time": "2025-07-15T05:30:39.269100Z"
    }
   },
   "cell_type": "code",
   "source": [
    "model = SLGCA(adata = adata,device=device, epochs=500,dim_output=64, n_top_genes=3000, n_neighbors=6,alpha=10,beta=0.6,gama=0.7)\n",
    "adata = model.train()\n",
    "\n",
    "from utils import clustering\n",
    "tool = 'mclust'\n",
    "radius = 50\n",
    "clustering(adata, n_clusters=n_clusters, method=tool, radius=radius, refinement=True)\n",
    "ARI = metrics.adjusted_rand_score(adata.obs['SLGCA'], adata.obs['ground_truth'])\n",
    "NMI = metrics.normalized_mutual_info_score(adata.obs['SLGCA'], adata.obs['ground_truth'])\n",
    "print(ARI,NMI)"
   ],
   "id": "1e7b8ca4dab48e56",
   "outputs": [
    {
     "name": "stdout",
     "output_type": "stream",
     "text": [
      "Begin to train ST data...\n"
     ]
    },
    {
     "name": "stderr",
     "output_type": "stream",
     "text": [
      "100%|██████████| 500/500 [00:38<00:00, 12.88it/s]\n"
     ]
    },
    {
     "name": "stdout",
     "output_type": "stream",
     "text": [
      "Optimization finished for ST data!\n"
     ]
    },
    {
     "name": "stderr",
     "output_type": "stream",
     "text": [
      "R[write to console]:                    __           __ \n",
      "   ____ ___  _____/ /_  _______/ /_\n",
      "  / __ `__ \\/ ___/ / / / / ___/ __/\n",
      " / / / / / / /__/ / /_/ (__  ) /_  \n",
      "/_/ /_/ /_/\\___/_/\\__,_/____/\\__/   version 6.1.1\n",
      "Type 'citation(\"mclust\")' for citing this R package in publications.\n",
      "\n"
     ]
    },
    {
     "name": "stdout",
     "output_type": "stream",
     "text": [
      "fitting ...\n",
      "  |======================================================================| 100%\n",
      "0.48641603210506035 0.7227646221566044\n"
     ]
    }
   ],
   "execution_count": 3
  },
  {
   "metadata": {
    "ExecuteTime": {
     "end_time": "2025-07-15T05:32:40.077160Z",
     "start_time": "2025-07-15T05:32:40.075338Z"
    }
   },
   "cell_type": "code",
   "source": "",
   "id": "4f06fcc6ee86b4d7",
   "outputs": [],
   "execution_count": null
  }
 ],
 "metadata": {
  "kernelspec": {
   "display_name": "Python 3",
   "language": "python",
   "name": "python3"
  },
  "language_info": {
   "codemirror_mode": {
    "name": "ipython",
    "version": 2
   },
   "file_extension": ".py",
   "mimetype": "text/x-python",
   "name": "python",
   "nbconvert_exporter": "python",
   "pygments_lexer": "ipython2",
   "version": "2.7.6"
  }
 },
 "nbformat": 4,
 "nbformat_minor": 5
}
