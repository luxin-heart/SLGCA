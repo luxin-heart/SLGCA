{
 "cells": [
  {
   "cell_type": "code",
   "id": "initial_id",
   "metadata": {
    "collapsed": true,
    "ExecuteTime": {
     "end_time": "2025-08-31T08:14:29.388669Z",
     "start_time": "2025-08-31T08:14:29.385854Z"
    }
   },
   "source": [
    "import pandas as pd\n",
    "import scanpy as sc\n",
    "import numpy as np\n",
    "from sklearn import metrics"
   ],
   "outputs": [],
   "execution_count": 3
  },
  {
   "metadata": {
    "ExecuteTime": {
     "end_time": "2025-08-31T08:14:35.922457Z",
     "start_time": "2025-08-31T08:14:30.212577Z"
    }
   },
   "cell_type": "code",
   "source": [
    "sample_list = ['151507', '151508', '151509', '151510',\n",
    "               '151669', '151670', '151671', '151672',\n",
    "               '151673', '151674', '151675', '151676']\n",
    "ARI_list = []\n",
    "NMI_list = []\n",
    "\n",
    "for sample_name in sample_list:\n",
    "    file_fold = '/home/luxin1/DLPFC/' + str(sample_name)\n",
    "    \n",
    "    adata = sc.read_h5ad(file_fold + \"/adata.h5ad\")\n",
    "    adata.var_names_make_unique()\n",
    "    \n",
    "    ARI = metrics.adjusted_rand_score(adata.obs['SLGCA'], adata.obs['ground_truth'])\n",
    "    NMI = metrics.normalized_mutual_info_score(adata.obs['SLGCA'], adata.obs['ground_truth'])\n",
    "\n",
    "    ARI_list.append(np.round(ARI, 2))\n",
    "    NMI_list.append(np.round(NMI, 2))\n",
    "    \n",
    "print(\"ARI_list:\", ARI_list, \"Mean ARI:\", np.round(np.mean(ARI_list), 2), \"Median ARI:\", np.round(np.median(ARI_list), 2))\n",
    "print(\"NMI_list:\", NMI_list, \"Mean NMI:\", np.round(np.mean(NMI_list), 2), \"Median NMI:\", np.round(np.median(NMI_list), 2))"
   ],
   "id": "8e0c5dcbec0b4aca",
   "outputs": [
    {
     "name": "stdout",
     "output_type": "stream",
     "text": [
      "ARI_list: [0.57, 0.55, 0.53, 0.55, 0.66, 0.66, 0.65, 0.77, 0.66, 0.65, 0.63, 0.66] Mean ARI: 0.63 Median ARI: 0.65\n",
      "NMI_list: [0.71, 0.69, 0.69, 0.66, 0.68, 0.65, 0.74, 0.75, 0.75, 0.74, 0.72, 0.73] Mean NMI: 0.71 Median NMI: 0.72\n"
     ]
    }
   ],
   "execution_count": 4
  },
  {
   "metadata": {},
   "cell_type": "code",
   "outputs": [],
   "execution_count": null,
   "source": "",
   "id": "deb5de68e387396e"
  }
 ],
 "metadata": {
  "kernelspec": {
   "display_name": "Python 3",
   "language": "python",
   "name": "python3"
  },
  "language_info": {
   "codemirror_mode": {
    "name": "ipython",
    "version": 2
   },
   "file_extension": ".py",
   "mimetype": "text/x-python",
   "name": "python",
   "nbconvert_exporter": "python",
   "pygments_lexer": "ipython2",
   "version": "2.7.6"
  }
 },
 "nbformat": 4,
 "nbformat_minor": 5
}
