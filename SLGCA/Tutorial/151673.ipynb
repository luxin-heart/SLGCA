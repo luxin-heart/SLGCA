{
 "cells": [
  {
   "cell_type": "code",
   "id": "initial_id",
   "metadata": {
    "collapsed": true,
    "ExecuteTime": {
     "end_time": "2025-08-31T08:17:09.748180Z",
     "start_time": "2025-08-31T08:17:09.741485Z"
    }
   },
   "source": [
    "from SLGCA_Model import SLGCA\n",
    "import os\n",
    "import torch\n",
    "import pandas as pd\n",
    "import scanpy as sc\n",
    "from sklearn import metrics\n",
    "import numpy as np\n",
    "import warnings\n",
    "from preprecess import *"
   ],
   "outputs": [],
   "execution_count": 116
  },
  {
   "metadata": {
    "ExecuteTime": {
     "end_time": "2025-08-31T08:17:09.789863Z",
     "start_time": "2025-08-31T08:17:09.759459Z"
    }
   },
   "cell_type": "code",
   "source": [
    "warnings.filterwarnings(\"ignore\", category=FutureWarning)\n",
    "warnings.filterwarnings(\"ignore\", category=UserWarning)\n",
    "warnings.filterwarnings(\"ignore\", category=DeprecationWarning)\n",
    "device = torch.device(\"cuda:1\" if torch.cuda.is_available() else \"cpu\")\n",
    "os.environ['R_HOME'] = '/home/luxin1/miniconda3/envs/pytorch/lib/R'\n",
    "\n",
    "sample_name = 151673\n",
    "file_fold = '/home/luxin1/DLPFC/' + str(sample_name)\n",
    "\n",
    "n_clusters = 7"
   ],
   "id": "d8ae1b4feddad1a",
   "outputs": [],
   "execution_count": 117
  },
  {
   "metadata": {
    "ExecuteTime": {
     "end_time": "2025-08-31T08:17:10.531800Z",
     "start_time": "2025-08-31T08:17:09.842915Z"
    }
   },
   "cell_type": "code",
   "source": [
    "adata = sc.read_visium(file_fold, count_file='filtered_feature_bc_matrix.h5', load_images=True)\n",
    "adata.var_names_make_unique()\n",
    "df_meta = pd.read_csv(file_fold + \"/metadata.tsv\", sep=\"\\t\")\n",
    "de_meta_layer = df_meta['layer_guess']\n",
    "adata.obs['ground_truth'] = de_meta_layer.values\n",
    "adata = adata[~pd.isnull(adata.obs['ground_truth'])]"
   ],
   "id": "361456229276102c",
   "outputs": [],
   "execution_count": 118
  },
  {
   "metadata": {
    "ExecuteTime": {
     "end_time": "2025-08-31T08:17:25.453246Z",
     "start_time": "2025-08-31T08:17:10.554986Z"
    }
   },
   "cell_type": "code",
   "source": [
    "model = SLGCA(adata = adata, device=device, epochs=500,dim_output=64, n_top_genes=4000, n_neighbors=6,alpha=10,beta=0.5,gama=0.5)\n",
    "adata = model.train()"
   ],
   "id": "41920193a5a0eda",
   "outputs": [
    {
     "name": "stdout",
     "output_type": "stream",
     "text": [
      "Begin to train ST data...\n"
     ]
    },
    {
     "name": "stderr",
     "output_type": "stream",
     "text": [
      "100%|██████████| 500/500 [00:12<00:00, 39.86it/s]"
     ]
    },
    {
     "name": "stdout",
     "output_type": "stream",
     "text": [
      "Optimization finished for ST data!\n"
     ]
    },
    {
     "name": "stderr",
     "output_type": "stream",
     "text": [
      "\n"
     ]
    }
   ],
   "execution_count": 119
  },
  {
   "metadata": {
    "ExecuteTime": {
     "end_time": "2025-08-31T08:17:32.303485Z",
     "start_time": "2025-08-31T08:17:25.491672Z"
    }
   },
   "cell_type": "code",
   "source": [
    "from utils import clustering\n",
    "tool = 'mclust'\n",
    "radius = 50\n",
    "clustering(adata, n_clusters=n_clusters, method=tool, radius=radius, refinement=True)\n",
    "\n",
    "ARI = metrics.adjusted_rand_score(adata.obs['SLGCA'], adata.obs['ground_truth'])\n",
    "NMI = metrics.normalized_mutual_info_score(adata.obs['SLGCA'], adata.obs['ground_truth'])\n",
    "print(ARI, NMI)"
   ],
   "id": "eae93be28b329408",
   "outputs": [
    {
     "name": "stdout",
     "output_type": "stream",
     "text": [
      "fitting ...\n",
      "  |======================================================================| 100%\n",
      "0.6588763409300818 0.7474066191150414\n"
     ]
    }
   ],
   "execution_count": 120
  },
  {
   "metadata": {
    "ExecuteTime": {
     "end_time": "2025-08-31T08:17:32.327587Z",
     "start_time": "2025-08-31T08:17:32.324569Z"
    }
   },
   "cell_type": "code",
   "source": "adata",
   "id": "95f517e00d591980",
   "outputs": [
    {
     "data": {
      "text/plain": [
       "AnnData object with n_obs × n_vars = 3611 × 33538\n",
       "    obs: 'in_tissue', 'array_row', 'array_col', 'ground_truth', 'mclust', 'SLGCA'\n",
       "    var: 'gene_ids', 'feature_types', 'genome', 'highly_variable', 'highly_variable_rank', 'means', 'variances', 'variances_norm', 'mean', 'std'\n",
       "    uns: 'spatial', 'hvg', 'log1p'\n",
       "    obsm: 'spatial', 'feat', 'distance_matrix', 'graph_neigh', 'emb', 'rec', 'emb_pca'"
      ]
     },
     "execution_count": 121,
     "metadata": {},
     "output_type": "execute_result"
    }
   ],
   "execution_count": 121
  },
  {
   "metadata": {
    "ExecuteTime": {
     "end_time": "2025-08-31T08:17:33.136647Z",
     "start_time": "2025-08-31T08:17:32.371423Z"
    }
   },
   "cell_type": "code",
   "source": "adata.write(file_fold + \"/adata.h5ad\")",
   "id": "2101103b9d31b4b5",
   "outputs": [],
   "execution_count": 122
  }
 ],
 "metadata": {
  "kernelspec": {
   "display_name": "Python 3",
   "language": "python",
   "name": "python3"
  },
  "language_info": {
   "codemirror_mode": {
    "name": "ipython",
    "version": 2
   },
   "file_extension": ".py",
   "mimetype": "text/x-python",
   "name": "python",
   "nbconvert_exporter": "python",
   "pygments_lexer": "ipython2",
   "version": "2.7.6"
  }
 },
 "nbformat": 4,
 "nbformat_minor": 5
}
